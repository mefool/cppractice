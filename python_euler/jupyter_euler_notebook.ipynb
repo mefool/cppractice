{
 "cells": [
  {
   "cell_type": "markdown",
   "id": "1e49bd16-e92f-4683-a39b-b26623da9741",
   "metadata": {},
   "source": [
    "# Project Euler"
   ]
  },
  {
   "cell_type": "markdown",
   "id": "f982fdf0-7de4-4c3f-9e70-9fced612f769",
   "metadata": {},
   "source": [
    "Problem 1 - [Multiples of 3 or 5](https://projecteuler.net/problem=1)"
   ]
  },
  {
   "cell_type": "code",
   "execution_count": 1,
   "id": "aa0e1259-cf51-4e67-a7dd-a1c7b2d97a8f",
   "metadata": {},
   "outputs": [
    {
     "data": {
      "text/plain": [
       "233168"
      ]
     },
     "execution_count": 1,
     "metadata": {},
     "output_type": "execute_result"
    }
   ],
   "source": [
    "sum([n for n in range(1000) if n % 3 == 0 or n % 5 == 0])"
   ]
  },
  {
   "cell_type": "markdown",
   "id": "be67b289-d3cf-4431-a24d-69eb451a139b",
   "metadata": {
    "tags": []
   },
   "source": [
    "Problem 2 - [Even Fibonacci numbers](https://projecteuler.net/problem=2)"
   ]
  },
  {
   "cell_type": "code",
   "execution_count": 2,
   "id": "ce687ca6-a78e-4022-9813-a5fa393dc21f",
   "metadata": {},
   "outputs": [
    {
     "data": {
      "text/plain": [
       "4613732"
      ]
     },
     "execution_count": 2,
     "metadata": {},
     "output_type": "execute_result"
    }
   ],
   "source": [
    "a, b = 1, 1\n",
    "fib_sum = 0\n",
    "while a < 4*10**6:\n",
    "    if a%2 == 0:\n",
    "        fib_sum += a    \n",
    "    a, b = b, a + b\n",
    "\n",
    "fib_sum"
   ]
  },
  {
   "cell_type": "markdown",
   "id": "a384234c-0744-46fc-b314-e5fc251cf11c",
   "metadata": {},
   "source": [
    "Problem 3 - [Largest prime factor](https://projecteuler.net/problem=3)"
   ]
  },
  {
   "cell_type": "code",
   "execution_count": 3,
   "id": "7143e35a-07ed-4f25-a99d-507f60278fea",
   "metadata": {},
   "outputs": [
    {
     "data": {
      "text/plain": [
       "6857"
      ]
     },
     "execution_count": 3,
     "metadata": {},
     "output_type": "execute_result"
    }
   ],
   "source": [
    "num = 600851475143\n",
    "for i in range(2,num):\n",
    "    while num%i == 0:\n",
    "        num /= i\n",
    "    if num == 1:\n",
    "        break\n",
    "i"
   ]
  },
  {
   "cell_type": "markdown",
   "id": "10543149-d251-4cfe-ad30-7d4c6aaf6aac",
   "metadata": {},
   "source": [
    "Problem 4 - [Largest palindrome product](https://projecteuler.net/problem=4)"
   ]
  },
  {
   "cell_type": "code",
   "execution_count": 4,
   "id": "add480ef-a505-43a7-b63d-4c39303500db",
   "metadata": {},
   "outputs": [
    {
     "data": {
      "text/plain": [
       "906609"
      ]
     },
     "execution_count": 4,
     "metadata": {},
     "output_type": "execute_result"
    }
   ],
   "source": [
    "def is_palindrome(n):\n",
    "    return str(n) == str(n)[::-1]\n",
    "\n",
    "num = 0\n",
    "for i in range(999, 100, -1):\n",
    "    for j in range(999, 100, -1):\n",
    "        if i*j < num:\n",
    "            break\n",
    "        if is_palindrome(i*j) and i*j > num:\n",
    "            num = i*j;\n",
    "    if i*i < num:\n",
    "        break\n",
    "num"
   ]
  }
 ],
 "metadata": {
  "kernelspec": {
   "display_name": "Python 3 (ipykernel)",
   "language": "python",
   "name": "python3"
  },
  "language_info": {
   "codemirror_mode": {
    "name": "ipython",
    "version": 3
   },
   "file_extension": ".py",
   "mimetype": "text/x-python",
   "name": "python",
   "nbconvert_exporter": "python",
   "pygments_lexer": "ipython3",
   "version": "3.10.8"
  }
 },
 "nbformat": 4,
 "nbformat_minor": 5
}
